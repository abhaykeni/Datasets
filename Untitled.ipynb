{
 "cells": [
  {
   "cell_type": "code",
   "execution_count": 98,
   "id": "85a96cac",
   "metadata": {},
   "outputs": [
    {
     "name": "stderr",
     "output_type": "stream",
     "text": [
      "C:\\Users\\HP-PC\\AppData\\Local\\Temp\\ipykernel_13072\\3626913587.py:14: DeprecationWarning: executable_path has been deprecated, please pass in a Service object\n",
      "  driver = webdriver.Chrome(executable_path=r'G:\\Assignments\\chromedriver.exe')\n"
     ]
    },
    {
     "name": "stdout",
     "output_type": "stream",
     "text": [
      "Channel: https://www.youtube.com/user/krishnaik06/videos?view=0&sort=dd&flow=grid\n"
     ]
    }
   ],
   "source": [
    "# import required packages\n",
    "from selenium import webdriver\n",
    "from bs4 import BeautifulSoup\n",
    "import time\n",
    "\n",
    "\n",
    "# provide the url of the channel whose data you want to fetch\n",
    "urls = [\n",
    "    'https://www.youtube.com/user/krishnaik06/videos?view=0&sort=dd&flow=grid',\n",
    "]\n",
    "\n",
    "sleep_between_interactions = 0.5\n",
    "\n",
    "driver = webdriver.Chrome(executable_path=r'G:\\Assignments\\chromedriver.exe')\n",
    "for url in urls:\n",
    "    driver.get(url)\n",
    "    driver.execute_script(\"window.scrollTo(0, document.body.scrollHeight);\")\n",
    "    time.sleep(sleep_between_interactions)\n",
    "    content = driver.page_source.encode('utf-8').strip()\n",
    "    soup = BeautifulSoup(content, 'html.parser')\n",
    "    titles = soup.findAll('a', id='video-title-link')\n",
    "    views = soup.findAll('span', class_='inline-metadata-item style-scope ytd-video-meta-block')\n",
    "    video_urls = soup.findAll('a', id='video-title-link')\n",
    "    images = soup.findAll('img', class_=\"style-scope yt-img-shadow\")\n",
    "    print('Channel: {}'.format(url))"
   ]
  },
  {
   "cell_type": "markdown",
   "id": "18e6c911",
   "metadata": {},
   "source": [
    "# Unable to extract all images src links"
   ]
  },
  {
   "cell_type": "code",
   "execution_count": 99,
   "id": "f435c85a",
   "metadata": {},
   "outputs": [
    {
     "data": {
      "text/plain": [
       "[<img alt=\"\" class=\"style-scope yt-img-shadow\" draggable=\"false\" id=\"img\" width=\"78\"/>,\n",
       " <img alt=\"\" class=\"style-scope yt-img-shadow\" draggable=\"false\" id=\"img\" src=\"https://yt3.ggpht.com/ytc/AMLnZu_Ow7V1PyNJXmvxUmamZqNR3IMT94rkYdJ0mz-8xQ=s88-c-k-c0x00ffffff-no-rj\" width=\"80\"/>,\n",
       " <img alt=\"\" class=\"style-scope yt-img-shadow\" draggable=\"false\" height=\"16\" id=\"img\" src=\"https://encrypted-tbn0.gstatic.com/favicon-tbn?q=tbn:ANd9GcTsP15JsvvI-ZaOcn6rlCDZIyVss3csR8unU59UQboMQkONHppt5SKejbLCk3_CBVuIch-uXwU0thuiYN6yx9xRhFKEhta16u9Ha6x0p6ROdTUVkgE\" width=\"16\"/>,\n",
       " <img alt=\"\" class=\"style-scope yt-img-shadow\" draggable=\"false\" height=\"16\" id=\"img\" src=\"https://encrypted-tbn0.gstatic.com/favicon-tbn?q=tbn:ANd9GcQCkoCgWrUYXelgc_TnPtfUStRzktyCYD7pJwwz7NxHIPt2wRSxj84R3KDBEw6s0NiUPftuEj8LkS7Vq-7kB3K6jT_t7xN0UC_s3whbKaLX\" width=\"16\"/>,\n",
       " <img alt=\"\" class=\"style-scope yt-img-shadow\" draggable=\"false\" height=\"16\" id=\"img\" src=\"https://encrypted-tbn3.gstatic.com/favicon-tbn?q=tbn:ANd9GcTuoW_QrBnnS4b94mC_eEVC0LVuutPHXIj2GWAfh_IWw4atxFjF6qjhv_36NzYLqjm-8LFDGUEnk-smY0RF1FZxvo2gpqCu_f86cpInsXNbN_2OwNo\" width=\"16\"/>,\n",
       " <img alt=\"\" class=\"style-scope yt-img-shadow\" draggable=\"false\" height=\"16\" id=\"img\" src=\"https://encrypted-tbn3.gstatic.com/favicon-tbn?q=tbn:ANd9GcRfYQ4UPLA7AtItHycwuYVII6FrTKnGAJQDzjpPy0P1oY2HKJF_cYMJ_wjxTX_6xAJW6b18QHN2JGUSyDUyOkwHbE_qkNpRbxdNTJteROXvtHE7UC8_mg\" width=\"16\"/>,\n",
       " <img alt=\"\" class=\"style-scope yt-img-shadow\" draggable=\"false\" height=\"16\" id=\"img\" src=\"https://encrypted-tbn0.gstatic.com/favicon-tbn?q=tbn:ANd9GcR3iqklaOtk_2Tks6Fp78jzdlSWb2dc3v92FHhyc99Yz7tDHOkg62CoNEO1Mden-xjYCq7TQLjXfILWh8tjYFDXosrGXktdMY1GIadRgIMCdg\" width=\"16\"/>,\n",
       " <img alt=\"\" class=\"style-scope yt-img-shadow\" draggable=\"false\" id=\"img\" src=\"https://i.ytimg.com/vi/ECxPOgjz_B8/hqdefault.jpg?sqp=-oaymwEcCNACELwBSFXyq4qpAw4IARUAAIhCGAFwAcABBg==&amp;rs=AOn4CLCz9NdZN-7hxbazCFlb2NqI3qxKJA\" width=\"9999\"/>,\n",
       " <img alt=\"\" class=\"style-scope yt-img-shadow\" draggable=\"false\" id=\"img\" width=\"48\"/>,\n",
       " <img alt=\"\" class=\"style-scope yt-img-shadow\" draggable=\"false\" id=\"img\" src=\"https://i.ytimg.com/vi/39JpUMAJHCQ/hqdefault.jpg?sqp=-oaymwEcCNACELwBSFXyq4qpAw4IARUAAIhCGAFwAcABBg==&amp;rs=AOn4CLAVarmibU9k_souajGZHAIoepB47Q\" width=\"9999\"/>,\n",
       " <img alt=\"\" class=\"style-scope yt-img-shadow\" draggable=\"false\" id=\"img\" width=\"48\"/>,\n",
       " <img alt=\"\" class=\"style-scope yt-img-shadow\" draggable=\"false\" id=\"img\" src=\"https://i.ytimg.com/vi/-onwtlyBeZo/hqdefault.jpg?sqp=-oaymwEcCNACELwBSFXyq4qpAw4IARUAAIhCGAFwAcABBg==&amp;rs=AOn4CLCBBIfKsHwDM76RWY4BQdixne0hAg\" width=\"9999\"/>,\n",
       " <img alt=\"\" class=\"style-scope yt-img-shadow\" draggable=\"false\" id=\"img\" width=\"48\"/>,\n",
       " <img alt=\"\" class=\"style-scope yt-img-shadow\" draggable=\"false\" id=\"img\" src=\"https://i.ytimg.com/vi/4ARikPDfelQ/hqdefault.jpg?sqp=-oaymwEcCNACELwBSFXyq4qpAw4IARUAAIhCGAFwAcABBg==&amp;rs=AOn4CLCHuBgmPZTfT6cZKkZAESppBHmBow\" width=\"9999\"/>,\n",
       " <img alt=\"\" class=\"style-scope yt-img-shadow\" draggable=\"false\" id=\"img\" width=\"48\"/>,\n",
       " <img alt=\"\" class=\"style-scope yt-img-shadow\" draggable=\"false\" id=\"img\" width=\"9999\"/>,\n",
       " <img alt=\"\" class=\"style-scope yt-img-shadow\" draggable=\"false\" id=\"img\" width=\"48\"/>,\n",
       " <img alt=\"\" class=\"style-scope yt-img-shadow\" draggable=\"false\" id=\"img\" width=\"9999\"/>,\n",
       " <img alt=\"\" class=\"style-scope yt-img-shadow\" draggable=\"false\" id=\"img\" width=\"48\"/>,\n",
       " <img alt=\"\" class=\"style-scope yt-img-shadow\" draggable=\"false\" id=\"img\" width=\"9999\"/>,\n",
       " <img alt=\"\" class=\"style-scope yt-img-shadow\" draggable=\"false\" id=\"img\" width=\"48\"/>,\n",
       " <img alt=\"\" class=\"style-scope yt-img-shadow\" draggable=\"false\" id=\"img\" width=\"9999\"/>,\n",
       " <img alt=\"\" class=\"style-scope yt-img-shadow\" draggable=\"false\" id=\"img\" width=\"48\"/>,\n",
       " <img alt=\"\" class=\"style-scope yt-img-shadow\" draggable=\"false\" id=\"img\" width=\"9999\"/>,\n",
       " <img alt=\"\" class=\"style-scope yt-img-shadow\" draggable=\"false\" id=\"img\" width=\"48\"/>,\n",
       " <img alt=\"\" class=\"style-scope yt-img-shadow\" draggable=\"false\" id=\"img\" width=\"9999\"/>,\n",
       " <img alt=\"\" class=\"style-scope yt-img-shadow\" draggable=\"false\" id=\"img\" width=\"48\"/>,\n",
       " <img alt=\"\" class=\"style-scope yt-img-shadow\" draggable=\"false\" id=\"img\" width=\"9999\"/>,\n",
       " <img alt=\"\" class=\"style-scope yt-img-shadow\" draggable=\"false\" id=\"img\" width=\"48\"/>,\n",
       " <img alt=\"\" class=\"style-scope yt-img-shadow\" draggable=\"false\" id=\"img\" width=\"9999\"/>,\n",
       " <img alt=\"\" class=\"style-scope yt-img-shadow\" draggable=\"false\" id=\"img\" width=\"48\"/>,\n",
       " <img alt=\"\" class=\"style-scope yt-img-shadow\" draggable=\"false\" id=\"img\" width=\"9999\"/>,\n",
       " <img alt=\"\" class=\"style-scope yt-img-shadow\" draggable=\"false\" id=\"img\" width=\"48\"/>,\n",
       " <img alt=\"\" class=\"style-scope yt-img-shadow\" draggable=\"false\" id=\"img\" width=\"9999\"/>,\n",
       " <img alt=\"\" class=\"style-scope yt-img-shadow\" draggable=\"false\" id=\"img\" width=\"48\"/>,\n",
       " <img alt=\"\" class=\"style-scope yt-img-shadow\" draggable=\"false\" id=\"img\" width=\"9999\"/>,\n",
       " <img alt=\"\" class=\"style-scope yt-img-shadow\" draggable=\"false\" id=\"img\" width=\"48\"/>,\n",
       " <img alt=\"\" class=\"style-scope yt-img-shadow\" draggable=\"false\" id=\"img\" width=\"9999\"/>,\n",
       " <img alt=\"\" class=\"style-scope yt-img-shadow\" draggable=\"false\" id=\"img\" width=\"48\"/>,\n",
       " <img alt=\"\" class=\"style-scope yt-img-shadow\" draggable=\"false\" id=\"img\" width=\"9999\"/>,\n",
       " <img alt=\"\" class=\"style-scope yt-img-shadow\" draggable=\"false\" id=\"img\" width=\"48\"/>,\n",
       " <img alt=\"\" class=\"style-scope yt-img-shadow\" draggable=\"false\" id=\"img\" width=\"9999\"/>,\n",
       " <img alt=\"\" class=\"style-scope yt-img-shadow\" draggable=\"false\" id=\"img\" width=\"48\"/>,\n",
       " <img alt=\"\" class=\"style-scope yt-img-shadow\" draggable=\"false\" id=\"img\" width=\"9999\"/>,\n",
       " <img alt=\"\" class=\"style-scope yt-img-shadow\" draggable=\"false\" id=\"img\" width=\"48\"/>,\n",
       " <img alt=\"\" class=\"style-scope yt-img-shadow\" draggable=\"false\" id=\"img\" width=\"9999\"/>,\n",
       " <img alt=\"\" class=\"style-scope yt-img-shadow\" draggable=\"false\" id=\"img\" width=\"48\"/>,\n",
       " <img alt=\"\" class=\"style-scope yt-img-shadow\" draggable=\"false\" id=\"img\" width=\"9999\"/>,\n",
       " <img alt=\"\" class=\"style-scope yt-img-shadow\" draggable=\"false\" id=\"img\" width=\"48\"/>,\n",
       " <img alt=\"\" class=\"style-scope yt-img-shadow\" draggable=\"false\" id=\"img\" width=\"9999\"/>,\n",
       " <img alt=\"\" class=\"style-scope yt-img-shadow\" draggable=\"false\" id=\"img\" width=\"48\"/>,\n",
       " <img alt=\"\" class=\"style-scope yt-img-shadow\" draggable=\"false\" id=\"img\" width=\"9999\"/>,\n",
       " <img alt=\"\" class=\"style-scope yt-img-shadow\" draggable=\"false\" id=\"img\" width=\"48\"/>,\n",
       " <img alt=\"\" class=\"style-scope yt-img-shadow\" draggable=\"false\" id=\"img\" width=\"9999\"/>,\n",
       " <img alt=\"\" class=\"style-scope yt-img-shadow\" draggable=\"false\" id=\"img\" width=\"48\"/>,\n",
       " <img alt=\"\" class=\"style-scope yt-img-shadow\" draggable=\"false\" id=\"img\" width=\"9999\"/>,\n",
       " <img alt=\"\" class=\"style-scope yt-img-shadow\" draggable=\"false\" id=\"img\" width=\"48\"/>,\n",
       " <img alt=\"\" class=\"style-scope yt-img-shadow\" draggable=\"false\" id=\"img\" width=\"9999\"/>,\n",
       " <img alt=\"\" class=\"style-scope yt-img-shadow\" draggable=\"false\" id=\"img\" width=\"48\"/>,\n",
       " <img alt=\"\" class=\"style-scope yt-img-shadow\" draggable=\"false\" id=\"img\" width=\"9999\"/>,\n",
       " <img alt=\"\" class=\"style-scope yt-img-shadow\" draggable=\"false\" id=\"img\" width=\"48\"/>,\n",
       " <img alt=\"\" class=\"style-scope yt-img-shadow\" draggable=\"false\" id=\"img\" width=\"9999\"/>,\n",
       " <img alt=\"\" class=\"style-scope yt-img-shadow\" draggable=\"false\" id=\"img\" width=\"48\"/>,\n",
       " <img alt=\"\" class=\"style-scope yt-img-shadow\" draggable=\"false\" id=\"img\" width=\"9999\"/>,\n",
       " <img alt=\"\" class=\"style-scope yt-img-shadow\" draggable=\"false\" id=\"img\" width=\"48\"/>,\n",
       " <img alt=\"\" class=\"style-scope yt-img-shadow\" draggable=\"false\" id=\"img\" width=\"9999\"/>,\n",
       " <img alt=\"\" class=\"style-scope yt-img-shadow\" draggable=\"false\" id=\"img\" width=\"48\"/>,\n",
       " <img alt=\"\" class=\"style-scope yt-img-shadow\" draggable=\"false\" id=\"img\" width=\"9999\"/>,\n",
       " <img alt=\"\" class=\"style-scope yt-img-shadow\" draggable=\"false\" id=\"img\" width=\"48\"/>,\n",
       " <img alt=\"\" class=\"style-scope yt-img-shadow\" draggable=\"false\" id=\"img\" width=\"40\"/>,\n",
       " <img alt=\"\" class=\"style-scope yt-img-shadow\" draggable=\"false\" id=\"img\" width=\"40\"/>]"
      ]
     },
     "execution_count": 99,
     "metadata": {},
     "output_type": "execute_result"
    }
   ],
   "source": [
    "images"
   ]
  },
  {
   "cell_type": "code",
   "execution_count": null,
   "id": "32a0aea7",
   "metadata": {},
   "outputs": [],
   "source": []
  },
  {
   "cell_type": "code",
   "execution_count": 101,
   "id": "aaad882d",
   "metadata": {},
   "outputs": [
    {
     "name": "stderr",
     "output_type": "stream",
     "text": [
      "C:\\Users\\HP-PC\\AppData\\Local\\Temp\\ipykernel_13072\\1879465891.py:13: DeprecationWarning: executable_path has been deprecated, please pass in a Service object\n",
      "  driver = webdriver.Chrome(executable_path=r'G:\\Assignments\\chromedriver.exe')\n"
     ]
    }
   ],
   "source": [
    "from selenium import webdriver\n",
    "from bs4 import BeautifulSoup\n",
    "import time\n",
    "\n",
    "\n",
    "# provide the url of the channel whose data you want to fetch\n",
    "urls = [\n",
    "    'https://www.youtube.com/watch?v=ECxPOgjz_B8',\n",
    "]\n",
    "\n",
    "driver = webdriver.Chrome(executable_path=r'G:\\Assignments\\chromedriver.exe')\n",
    "for url in urls:\n",
    "    driver.get(url)\n",
    "    content1 = driver.page_source.encode('utf-8').strip()\n",
    "    soup1 = BeautifulSoup(content, 'html.parser')"
   ]
  },
  {
   "cell_type": "markdown",
   "id": "6e718e58",
   "metadata": {},
   "source": [
    "# Unable to extract Comments"
   ]
  },
  {
   "cell_type": "code",
   "execution_count": 104,
   "id": "a27be492",
   "metadata": {},
   "outputs": [
    {
     "data": {
      "text/plain": [
       "[<div class=\"style-scope ytd-expander\" id=\"content\">\n",
       " <div class=\"style-scope ytd-video-secondary-info-renderer\" id=\"description\" slot=\"content\"><yt-attributed-string class=\"content style-scope ytd-video-secondary-info-renderer\" disable-upgrade=\"\" hidden=\"\"></yt-attributed-string><yt-formatted-string class=\"content style-scope ytd-video-secondary-info-renderer\" force-default-style=\"\" is-empty=\"\" split-lines=\"\"><!--css-build:shady--><yt-attributed-string class=\"style-scope yt-formatted-string\"></yt-attributed-string></yt-formatted-string><ytd-structured-description-content-renderer class=\"style-scope ytd-video-secondary-info-renderer\" disable-upgrade=\"\" hidden=\"\"></ytd-structured-description-content-renderer></div>\n",
       " </div>]"
      ]
     },
     "execution_count": 104,
     "metadata": {},
     "output_type": "execute_result"
    }
   ],
   "source": [
    "soup1.findAll('div', class_ = 'style-scope ytd-expander')"
   ]
  },
  {
   "cell_type": "code",
   "execution_count": 106,
   "id": "2d3221f3",
   "metadata": {},
   "outputs": [
    {
     "data": {
      "text/plain": [
       "[]"
      ]
     },
     "execution_count": 106,
     "metadata": {},
     "output_type": "execute_result"
    }
   ],
   "source": [
    "soup1.findAll('div', class_ = 'style-scope ytd-comment-renderer')"
   ]
  },
  {
   "cell_type": "code",
   "execution_count": null,
   "id": "672ccf78",
   "metadata": {},
   "outputs": [],
   "source": []
  }
 ],
 "metadata": {
  "kernelspec": {
   "display_name": "Python 3 (ipykernel)",
   "language": "python",
   "name": "python3"
  },
  "language_info": {
   "codemirror_mode": {
    "name": "ipython",
    "version": 3
   },
   "file_extension": ".py",
   "mimetype": "text/x-python",
   "name": "python",
   "nbconvert_exporter": "python",
   "pygments_lexer": "ipython3",
   "version": "3.9.12"
  }
 },
 "nbformat": 4,
 "nbformat_minor": 5
}
